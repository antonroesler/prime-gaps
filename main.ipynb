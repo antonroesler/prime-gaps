{
 "cells": [
  {
   "cell_type": "markdown",
   "id": "boolean-plastic",
   "metadata": {},
   "source": [
    "# Prime Gaps Plot"
   ]
  },
  {
   "cell_type": "code",
   "execution_count": 202,
   "id": "streaming-butterfly",
   "metadata": {},
   "outputs": [],
   "source": [
    "import numpy as np\n",
    "import matplotlib.pyplot as plt\n",
    "%matplotlib inline"
   ]
  },
  {
   "cell_type": "code",
   "execution_count": 203,
   "id": "pleased-amount",
   "metadata": {},
   "outputs": [],
   "source": [
    "HEIGHT = 9*2\n",
    "WIDTH = 16*2\n",
    "SAVE = True\n",
    "FILE_NAME = \"primeplot.png\""
   ]
  },
  {
   "cell_type": "markdown",
   "id": "414d3717",
   "metadata": {},
   "source": [
    "## Calculate primes using the 'Sieve of Eratosthenes'-Algorithm"
   ]
  },
  {
   "cell_type": "code",
   "execution_count": 204,
   "id": "terminal-experiment",
   "metadata": {},
   "outputs": [],
   "source": [
    "def sieve(n, end=None):\n",
    "    \"\"\"Returns a list of all primes smaller than n.\"\"\"\n",
    "    primes = [True for _ in range(n+1)]\n",
    "    x = 1\n",
    "    while(x**2 <= n):\n",
    "        x+=1\n",
    "        if primes[x]: \n",
    "            for i in range(len(primes))[x*2::x]:\n",
    "                primes[i]=False\n",
    "    return [p for p in range(2, n+1) if primes[p]]"
   ]
  },
  {
   "cell_type": "code",
   "execution_count": 205,
   "id": "intense-satin",
   "metadata": {},
   "outputs": [],
   "source": [
    "n_primes = WIDTH*HEIGHT+1 # Number of primes needed for the plot. (+1 since we are intrested in the gaps)\n",
    "x_estimate = n_primes*math.log(n_primes) # Estimate of how large the largest prime will be.\n",
    "primes = sieve(int(x_estimate*1.2)) # Calculate a few more primes than estimted to be save.\n",
    "primes = primes[:n_primes] # Cut off the primes that were calculated too many."
   ]
  },
  {
   "cell_type": "markdown",
   "id": "cae343e7",
   "metadata": {},
   "source": [
    "## Calculate gaps between primes"
   ]
  },
  {
   "cell_type": "code",
   "execution_count": 206,
   "id": "instant-toner",
   "metadata": {},
   "outputs": [],
   "source": [
    "prime_gaps = []\n",
    "for i in range(len(primes)-1):\n",
    "    prime_gaps.append(primes[i+1] - primes[i])    "
   ]
  },
  {
   "cell_type": "markdown",
   "id": "d1fcb89f",
   "metadata": {},
   "source": [
    "## Create plot "
   ]
  },
  {
   "cell_type": "markdown",
   "id": "679c5eab",
   "metadata": {},
   "source": [
    "Shape the array into an 2D-Array with the desired dimensions"
   ]
  },
  {
   "cell_type": "code",
   "execution_count": 207,
   "id": "responsible-barcelona",
   "metadata": {},
   "outputs": [],
   "source": [
    "data = np.reshape(np.array(prime_gaps), (HEIGHT, WIDTH))"
   ]
  },
  {
   "cell_type": "markdown",
   "id": "9f7fb274",
   "metadata": {},
   "source": [
    "Create plot using matplotlib and save the plot"
   ]
  },
  {
   "cell_type": "code",
   "execution_count": 208,
   "id": "confused-bidding",
   "metadata": {},
   "outputs": [
    {
     "data": {
      "image/png": "[encoded data removed]",
      "text/plain": [
       "<Figure size 432x288 with 1 Axes>"
      ]
     },
     "metadata": {
      "needs_background": "light"
     },
     "output_type": "display_data"
    }
   ],
   "source": [
    "plt.figure(1)\n",
    "plt.imshow(data, cmap=\"magma\")\n",
    "plt.axis('off')\n",
    "if SAVE: \n",
    "    plt.savefig(FILE_NAME, dpi=900, transparent=True, bbox_inches='tight', pad_inches=0)\n",
    "plt.show()"
   ]
  },
  {
   "cell_type": "markdown",
   "id": "1d5f19ca",
   "metadata": {},
   "source": [
    "## Information"
   ]
  },
  {
   "cell_type": "code",
   "execution_count": 209,
   "id": "offshore-pledge",
   "metadata": {},
   "outputs": [],
   "source": [
    "largest_gap = max(prime_gaps)\n",
    "largest_prime = max(primes)\n",
    "postition_of_largest_gap = prime_gaps.index(largest_gap)\n",
    "primes_with_largest_gap = (primes[postition_of_largest_gap], primes[postition_of_largest_gap+1])"
   ]
  },
  {
   "cell_type": "code",
   "execution_count": 210,
   "id": "southwest-crest",
   "metadata": {},
   "outputs": [
    {
     "name": "stdout",
     "output_type": "stream",
     "text": [
      "Number of primes: 577\n",
      "Largest prime: 4217\n",
      "Largest gap: 34\n",
      "Gap between 1327 and 1361\n"
     ]
    }
   ],
   "source": [
    "print(f\"Number of primes: {len(primes)}\\nLargest prime: {largest_prime}\\nLargest gap: {largest_gap}\\nGap between {primes_with_largest_gap[0]} and {primes_with_largest_gap[1]}\")"
   ]
  }
 ],
 "metadata": {
  "kernelspec": {
   "display_name": "Python 3",
   "language": "python",
   "name": "python3"
  },
  "language_info": {
   "codemirror_mode": {
    "name": "ipython",
    "version": 3
   },
   "file_extension": ".py",
   "mimetype": "text/x-python",
   "name": "python",
   "nbconvert_exporter": "python",
   "pygments_lexer": "ipython3",
   "version": "3.9.2"
  }
 },
 "nbformat": 4,
 "nbformat_minor": 5
}
